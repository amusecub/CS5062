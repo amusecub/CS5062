{
 "cells": [
  {
   "cell_type": "markdown",
   "id": "82411eab",
   "metadata": {},
   "source": [
    "## E-tivity 5\n",
    "### Name: Muhammad Umer Farooq\n",
    "### Student ID: 22402098"
   ]
  },
  {
   "cell_type": "code",
   "execution_count": 150,
   "id": "38ad0891",
   "metadata": {},
   "outputs": [],
   "source": [
    "#imports\n",
    "import pandas as pd\n",
    "import numpy as np\n",
    "from sklearn.pipeline import Pipeline, make_pipeline, FeatureUnion\n",
    "from sklearn.compose import ColumnTransformer\n",
    "from sklearn.base import BaseEstimator, TransformerMixin\n",
    "from sklearn.preprocessing import StandardScaler, RobustScaler, MinMaxScaler, FunctionTransformer\n",
    "from sklearn.model_selection import train_test_split, GridSearchCV\n",
    "import pickle\n",
    "import matplotlib.pyplot as plt\n",
    "%matplotlib inline\n",
    "\n",
    "# imports necessary for dimensionality reduction\n",
    "from sklearn.decomposition import PCA, NMF\n",
    "from sklearn.feature_selection import RFE, SelectKBest, mutual_info_regression\n",
    "from sklearn import svm\n",
    "\n",
    "# regression algorithms\n",
    "from sklearn.ensemble import RandomForestRegressor\n",
    "from sklearn.linear_model import LinearRegression\n",
    "from sklearn.neural_network import MLPRegressor\n",
    "\n",
    "# metrics for evaluating regression models\n",
    "from sklearn.metrics import mean_squared_error, mean_absolute_error, r2_score\n",
    "#import warnings\n",
    "#warnings.filterwarnings(\"ignore\")"
   ]
  },
  {
   "cell_type": "markdown",
   "id": "74c885a5",
   "metadata": {},
   "source": [
    "## EDA \n",
    "Here, the goal is to check different attributes of the dataset, look for missing values, look for outliers, and if required take necessary actions regarding missing values, and perform data transformation with an aim to train a good model. "
   ]
  },
  {
   "cell_type": "code",
   "execution_count": 151,
   "id": "735e58fc",
   "metadata": {},
   "outputs": [
    {
     "data": {
      "text/html": [
       "<div>\n",
       "<style scoped>\n",
       "    .dataframe tbody tr th:only-of-type {\n",
       "        vertical-align: middle;\n",
       "    }\n",
       "\n",
       "    .dataframe tbody tr th {\n",
       "        vertical-align: top;\n",
       "    }\n",
       "\n",
       "    .dataframe thead th {\n",
       "        text-align: right;\n",
       "    }\n",
       "</style>\n",
       "<table border=\"1\" class=\"dataframe\">\n",
       "  <thead>\n",
       "    <tr style=\"text-align: right;\">\n",
       "      <th></th>\n",
       "      <th>age</th>\n",
       "      <th>gender</th>\n",
       "      <th>bmi</th>\n",
       "      <th>children</th>\n",
       "      <th>smoker</th>\n",
       "      <th>region</th>\n",
       "      <th>insurance_cost</th>\n",
       "    </tr>\n",
       "  </thead>\n",
       "  <tbody>\n",
       "    <tr>\n",
       "      <th>0</th>\n",
       "      <td>18</td>\n",
       "      <td>male</td>\n",
       "      <td>33.770</td>\n",
       "      <td>1</td>\n",
       "      <td>no</td>\n",
       "      <td>southeast</td>\n",
       "      <td>1725.55230</td>\n",
       "    </tr>\n",
       "    <tr>\n",
       "      <th>1</th>\n",
       "      <td>18</td>\n",
       "      <td>male</td>\n",
       "      <td>34.100</td>\n",
       "      <td>0</td>\n",
       "      <td>no</td>\n",
       "      <td>southeast</td>\n",
       "      <td>1137.01100</td>\n",
       "    </tr>\n",
       "    <tr>\n",
       "      <th>2</th>\n",
       "      <td>18</td>\n",
       "      <td>female</td>\n",
       "      <td>26.315</td>\n",
       "      <td>0</td>\n",
       "      <td>no</td>\n",
       "      <td>northeast</td>\n",
       "      <td>2198.18985</td>\n",
       "    </tr>\n",
       "    <tr>\n",
       "      <th>3</th>\n",
       "      <td>18</td>\n",
       "      <td>female</td>\n",
       "      <td>38.665</td>\n",
       "      <td>2</td>\n",
       "      <td>no</td>\n",
       "      <td>northeast</td>\n",
       "      <td>3393.35635</td>\n",
       "    </tr>\n",
       "    <tr>\n",
       "      <th>4</th>\n",
       "      <td>18</td>\n",
       "      <td>female</td>\n",
       "      <td>35.625</td>\n",
       "      <td>0</td>\n",
       "      <td>no</td>\n",
       "      <td>northeast</td>\n",
       "      <td>2211.13075</td>\n",
       "    </tr>\n",
       "  </tbody>\n",
       "</table>\n",
       "</div>"
      ],
      "text/plain": [
       "   age  gender     bmi  children smoker     region  insurance_cost\n",
       "0   18    male  33.770         1     no  southeast      1725.55230\n",
       "1   18    male  34.100         0     no  southeast      1137.01100\n",
       "2   18  female  26.315         0     no  northeast      2198.18985\n",
       "3   18  female  38.665         2     no  northeast      3393.35635\n",
       "4   18  female  35.625         0     no  northeast      2211.13075"
      ]
     },
     "execution_count": 151,
     "metadata": {},
     "output_type": "execute_result"
    }
   ],
   "source": [
    "# Read the dataset in a pandas data frame\n",
    "data_frame = pd.read_csv(\"insurance.csv\")\n",
    "data_frame.head()"
   ]
  },
  {
   "cell_type": "code",
   "execution_count": 152,
   "id": "643cde1a",
   "metadata": {},
   "outputs": [
    {
     "data": {
      "text/plain": [
       "age               0\n",
       "gender            0\n",
       "bmi               0\n",
       "children          0\n",
       "smoker            0\n",
       "region            0\n",
       "insurance_cost    0\n",
       "dtype: int64"
      ]
     },
     "execution_count": 152,
     "metadata": {},
     "output_type": "execute_result"
    }
   ],
   "source": [
    "# Let's check for missing values in the dataset \n",
    "data_frame.isna().sum()"
   ]
  },
  {
   "cell_type": "markdown",
   "id": "6ddae5bb",
   "metadata": {},
   "source": [
    "Let's obtain some basic statistics about the numeric attributes in the data"
   ]
  },
  {
   "cell_type": "code",
   "execution_count": 153,
   "id": "5ea062a3",
   "metadata": {},
   "outputs": [
    {
     "data": {
      "text/html": [
       "<div>\n",
       "<style scoped>\n",
       "    .dataframe tbody tr th:only-of-type {\n",
       "        vertical-align: middle;\n",
       "    }\n",
       "\n",
       "    .dataframe tbody tr th {\n",
       "        vertical-align: top;\n",
       "    }\n",
       "\n",
       "    .dataframe thead th {\n",
       "        text-align: right;\n",
       "    }\n",
       "</style>\n",
       "<table border=\"1\" class=\"dataframe\">\n",
       "  <thead>\n",
       "    <tr style=\"text-align: right;\">\n",
       "      <th></th>\n",
       "      <th>age</th>\n",
       "      <th>bmi</th>\n",
       "      <th>children</th>\n",
       "      <th>insurance_cost</th>\n",
       "    </tr>\n",
       "  </thead>\n",
       "  <tbody>\n",
       "    <tr>\n",
       "      <th>count</th>\n",
       "      <td>1338.000000</td>\n",
       "      <td>1338.000000</td>\n",
       "      <td>1338.000000</td>\n",
       "      <td>1338.000000</td>\n",
       "    </tr>\n",
       "    <tr>\n",
       "      <th>mean</th>\n",
       "      <td>39.207025</td>\n",
       "      <td>30.663397</td>\n",
       "      <td>1.094918</td>\n",
       "      <td>13270.422265</td>\n",
       "    </tr>\n",
       "    <tr>\n",
       "      <th>std</th>\n",
       "      <td>14.049960</td>\n",
       "      <td>6.098187</td>\n",
       "      <td>1.205493</td>\n",
       "      <td>12110.011237</td>\n",
       "    </tr>\n",
       "    <tr>\n",
       "      <th>min</th>\n",
       "      <td>18.000000</td>\n",
       "      <td>15.960000</td>\n",
       "      <td>0.000000</td>\n",
       "      <td>1121.873900</td>\n",
       "    </tr>\n",
       "    <tr>\n",
       "      <th>25%</th>\n",
       "      <td>27.000000</td>\n",
       "      <td>26.296250</td>\n",
       "      <td>0.000000</td>\n",
       "      <td>4740.287150</td>\n",
       "    </tr>\n",
       "    <tr>\n",
       "      <th>50%</th>\n",
       "      <td>39.000000</td>\n",
       "      <td>30.400000</td>\n",
       "      <td>1.000000</td>\n",
       "      <td>9382.033000</td>\n",
       "    </tr>\n",
       "    <tr>\n",
       "      <th>75%</th>\n",
       "      <td>51.000000</td>\n",
       "      <td>34.693750</td>\n",
       "      <td>2.000000</td>\n",
       "      <td>16639.912515</td>\n",
       "    </tr>\n",
       "    <tr>\n",
       "      <th>max</th>\n",
       "      <td>64.000000</td>\n",
       "      <td>53.130000</td>\n",
       "      <td>5.000000</td>\n",
       "      <td>63770.428010</td>\n",
       "    </tr>\n",
       "  </tbody>\n",
       "</table>\n",
       "</div>"
      ],
      "text/plain": [
       "               age          bmi     children  insurance_cost\n",
       "count  1338.000000  1338.000000  1338.000000     1338.000000\n",
       "mean     39.207025    30.663397     1.094918    13270.422265\n",
       "std      14.049960     6.098187     1.205493    12110.011237\n",
       "min      18.000000    15.960000     0.000000     1121.873900\n",
       "25%      27.000000    26.296250     0.000000     4740.287150\n",
       "50%      39.000000    30.400000     1.000000     9382.033000\n",
       "75%      51.000000    34.693750     2.000000    16639.912515\n",
       "max      64.000000    53.130000     5.000000    63770.428010"
      ]
     },
     "execution_count": 153,
     "metadata": {},
     "output_type": "execute_result"
    }
   ],
   "source": [
    "data_frame.describe()"
   ]
  },
  {
   "cell_type": "markdown",
   "id": "6e3d60e9",
   "metadata": {},
   "source": [
    "The mean value for \"children\" attribute is 0. Let's further investigate it. "
   ]
  },
  {
   "cell_type": "code",
   "execution_count": 154,
   "id": "da415aac",
   "metadata": {},
   "outputs": [
    {
     "data": {
      "text/html": [
       "<div>\n",
       "<style scoped>\n",
       "    .dataframe tbody tr th:only-of-type {\n",
       "        vertical-align: middle;\n",
       "    }\n",
       "\n",
       "    .dataframe tbody tr th {\n",
       "        vertical-align: top;\n",
       "    }\n",
       "\n",
       "    .dataframe thead th {\n",
       "        text-align: right;\n",
       "    }\n",
       "</style>\n",
       "<table border=\"1\" class=\"dataframe\">\n",
       "  <thead>\n",
       "    <tr style=\"text-align: right;\">\n",
       "      <th></th>\n",
       "      <th>age</th>\n",
       "      <th>gender</th>\n",
       "      <th>bmi</th>\n",
       "      <th>children</th>\n",
       "      <th>smoker</th>\n",
       "      <th>region</th>\n",
       "      <th>insurance_cost</th>\n",
       "    </tr>\n",
       "  </thead>\n",
       "  <tbody>\n",
       "    <tr>\n",
       "      <th>1</th>\n",
       "      <td>18</td>\n",
       "      <td>male</td>\n",
       "      <td>34.100</td>\n",
       "      <td>0</td>\n",
       "      <td>no</td>\n",
       "      <td>southeast</td>\n",
       "      <td>1137.01100</td>\n",
       "    </tr>\n",
       "    <tr>\n",
       "      <th>2</th>\n",
       "      <td>18</td>\n",
       "      <td>female</td>\n",
       "      <td>26.315</td>\n",
       "      <td>0</td>\n",
       "      <td>no</td>\n",
       "      <td>northeast</td>\n",
       "      <td>2198.18985</td>\n",
       "    </tr>\n",
       "    <tr>\n",
       "      <th>4</th>\n",
       "      <td>18</td>\n",
       "      <td>female</td>\n",
       "      <td>35.625</td>\n",
       "      <td>0</td>\n",
       "      <td>no</td>\n",
       "      <td>northeast</td>\n",
       "      <td>2211.13075</td>\n",
       "    </tr>\n",
       "    <tr>\n",
       "      <th>6</th>\n",
       "      <td>18</td>\n",
       "      <td>female</td>\n",
       "      <td>30.115</td>\n",
       "      <td>0</td>\n",
       "      <td>no</td>\n",
       "      <td>northeast</td>\n",
       "      <td>21344.84670</td>\n",
       "    </tr>\n",
       "    <tr>\n",
       "      <th>7</th>\n",
       "      <td>18</td>\n",
       "      <td>male</td>\n",
       "      <td>23.750</td>\n",
       "      <td>0</td>\n",
       "      <td>no</td>\n",
       "      <td>northeast</td>\n",
       "      <td>1705.62450</td>\n",
       "    </tr>\n",
       "    <tr>\n",
       "      <th>...</th>\n",
       "      <td>...</td>\n",
       "      <td>...</td>\n",
       "      <td>...</td>\n",
       "      <td>...</td>\n",
       "      <td>...</td>\n",
       "      <td>...</td>\n",
       "      <td>...</td>\n",
       "    </tr>\n",
       "    <tr>\n",
       "      <th>1331</th>\n",
       "      <td>64</td>\n",
       "      <td>female</td>\n",
       "      <td>39.700</td>\n",
       "      <td>0</td>\n",
       "      <td>no</td>\n",
       "      <td>southwest</td>\n",
       "      <td>14319.03100</td>\n",
       "    </tr>\n",
       "    <tr>\n",
       "      <th>1332</th>\n",
       "      <td>64</td>\n",
       "      <td>female</td>\n",
       "      <td>35.970</td>\n",
       "      <td>0</td>\n",
       "      <td>no</td>\n",
       "      <td>southeast</td>\n",
       "      <td>14313.84630</td>\n",
       "    </tr>\n",
       "    <tr>\n",
       "      <th>1334</th>\n",
       "      <td>64</td>\n",
       "      <td>female</td>\n",
       "      <td>26.885</td>\n",
       "      <td>0</td>\n",
       "      <td>yes</td>\n",
       "      <td>northwest</td>\n",
       "      <td>29330.98315</td>\n",
       "    </tr>\n",
       "    <tr>\n",
       "      <th>1335</th>\n",
       "      <td>64</td>\n",
       "      <td>male</td>\n",
       "      <td>26.410</td>\n",
       "      <td>0</td>\n",
       "      <td>no</td>\n",
       "      <td>northeast</td>\n",
       "      <td>14394.55790</td>\n",
       "    </tr>\n",
       "    <tr>\n",
       "      <th>1337</th>\n",
       "      <td>64</td>\n",
       "      <td>male</td>\n",
       "      <td>23.760</td>\n",
       "      <td>0</td>\n",
       "      <td>yes</td>\n",
       "      <td>southeast</td>\n",
       "      <td>26926.51440</td>\n",
       "    </tr>\n",
       "  </tbody>\n",
       "</table>\n",
       "<p>574 rows × 7 columns</p>\n",
       "</div>"
      ],
      "text/plain": [
       "      age  gender     bmi  children smoker     region  insurance_cost\n",
       "1      18    male  34.100         0     no  southeast      1137.01100\n",
       "2      18  female  26.315         0     no  northeast      2198.18985\n",
       "4      18  female  35.625         0     no  northeast      2211.13075\n",
       "6      18  female  30.115         0     no  northeast     21344.84670\n",
       "7      18    male  23.750         0     no  northeast      1705.62450\n",
       "...   ...     ...     ...       ...    ...        ...             ...\n",
       "1331   64  female  39.700         0     no  southwest     14319.03100\n",
       "1332   64  female  35.970         0     no  southeast     14313.84630\n",
       "1334   64  female  26.885         0    yes  northwest     29330.98315\n",
       "1335   64    male  26.410         0     no  northeast     14394.55790\n",
       "1337   64    male  23.760         0    yes  southeast     26926.51440\n",
       "\n",
       "[574 rows x 7 columns]"
      ]
     },
     "execution_count": 154,
     "metadata": {},
     "output_type": "execute_result"
    }
   ],
   "source": [
    "data_frame.loc[(data_frame[\"children\"] == 0)]"
   ]
  },
  {
   "cell_type": "markdown",
   "id": "2945d28f",
   "metadata": {},
   "source": [
    "We have 1338 samples in the dataset. Among 1338 samples 574 samples report no chidren. The statistical data about the dataset has already revealed that the range of the \"age\" attribute is (18, 64) inclusive. Given the range of age in the dataset, the children data seems fine."
   ]
  },
  {
   "cell_type": "markdown",
   "id": "38ad8c5a",
   "metadata": {},
   "source": [
    "In the given dataset we have two nominal attributes/features, i.e., gender and region. Therefore, we will appy OneHot encoding on these attibutes."
   ]
  },
  {
   "cell_type": "code",
   "execution_count": 155,
   "id": "59e0a34d",
   "metadata": {},
   "outputs": [
    {
     "name": "stdout",
     "output_type": "stream",
     "text": [
      "Unique values for smoker  ['no' 'yes']\n"
     ]
    },
    {
     "data": {
      "text/html": [
       "<div>\n",
       "<style scoped>\n",
       "    .dataframe tbody tr th:only-of-type {\n",
       "        vertical-align: middle;\n",
       "    }\n",
       "\n",
       "    .dataframe tbody tr th {\n",
       "        vertical-align: top;\n",
       "    }\n",
       "\n",
       "    .dataframe thead th {\n",
       "        text-align: right;\n",
       "    }\n",
       "</style>\n",
       "<table border=\"1\" class=\"dataframe\">\n",
       "  <thead>\n",
       "    <tr style=\"text-align: right;\">\n",
       "      <th></th>\n",
       "      <th>age</th>\n",
       "      <th>bmi</th>\n",
       "      <th>children</th>\n",
       "      <th>smoker</th>\n",
       "      <th>insurance_cost</th>\n",
       "      <th>gender_female</th>\n",
       "      <th>gender_male</th>\n",
       "      <th>region_northeast</th>\n",
       "      <th>region_northwest</th>\n",
       "      <th>region_southeast</th>\n",
       "      <th>region_southwest</th>\n",
       "    </tr>\n",
       "  </thead>\n",
       "  <tbody>\n",
       "    <tr>\n",
       "      <th>0</th>\n",
       "      <td>18</td>\n",
       "      <td>33.770</td>\n",
       "      <td>1</td>\n",
       "      <td>0</td>\n",
       "      <td>1725.55230</td>\n",
       "      <td>0</td>\n",
       "      <td>1</td>\n",
       "      <td>0</td>\n",
       "      <td>0</td>\n",
       "      <td>1</td>\n",
       "      <td>0</td>\n",
       "    </tr>\n",
       "    <tr>\n",
       "      <th>1</th>\n",
       "      <td>18</td>\n",
       "      <td>34.100</td>\n",
       "      <td>0</td>\n",
       "      <td>0</td>\n",
       "      <td>1137.01100</td>\n",
       "      <td>0</td>\n",
       "      <td>1</td>\n",
       "      <td>0</td>\n",
       "      <td>0</td>\n",
       "      <td>1</td>\n",
       "      <td>0</td>\n",
       "    </tr>\n",
       "    <tr>\n",
       "      <th>2</th>\n",
       "      <td>18</td>\n",
       "      <td>26.315</td>\n",
       "      <td>0</td>\n",
       "      <td>0</td>\n",
       "      <td>2198.18985</td>\n",
       "      <td>1</td>\n",
       "      <td>0</td>\n",
       "      <td>1</td>\n",
       "      <td>0</td>\n",
       "      <td>0</td>\n",
       "      <td>0</td>\n",
       "    </tr>\n",
       "    <tr>\n",
       "      <th>3</th>\n",
       "      <td>18</td>\n",
       "      <td>38.665</td>\n",
       "      <td>2</td>\n",
       "      <td>0</td>\n",
       "      <td>3393.35635</td>\n",
       "      <td>1</td>\n",
       "      <td>0</td>\n",
       "      <td>1</td>\n",
       "      <td>0</td>\n",
       "      <td>0</td>\n",
       "      <td>0</td>\n",
       "    </tr>\n",
       "    <tr>\n",
       "      <th>4</th>\n",
       "      <td>18</td>\n",
       "      <td>35.625</td>\n",
       "      <td>0</td>\n",
       "      <td>0</td>\n",
       "      <td>2211.13075</td>\n",
       "      <td>1</td>\n",
       "      <td>0</td>\n",
       "      <td>1</td>\n",
       "      <td>0</td>\n",
       "      <td>0</td>\n",
       "      <td>0</td>\n",
       "    </tr>\n",
       "  </tbody>\n",
       "</table>\n",
       "</div>"
      ],
      "text/plain": [
       "   age     bmi  children  smoker  insurance_cost  gender_female  gender_male  \\\n",
       "0   18  33.770         1       0      1725.55230              0            1   \n",
       "1   18  34.100         0       0      1137.01100              0            1   \n",
       "2   18  26.315         0       0      2198.18985              1            0   \n",
       "3   18  38.665         2       0      3393.35635              1            0   \n",
       "4   18  35.625         0       0      2211.13075              1            0   \n",
       "\n",
       "   region_northeast  region_northwest  region_southeast  region_southwest  \n",
       "0                 0                 0                 1                 0  \n",
       "1                 0                 0                 1                 0  \n",
       "2                 1                 0                 0                 0  \n",
       "3                 1                 0                 0                 0  \n",
       "4                 1                 0                 0                 0  "
      ]
     },
     "execution_count": 155,
     "metadata": {},
     "output_type": "execute_result"
    }
   ],
   "source": [
    "# I am reading the csv again here, so that running this cell doesn't give an error (as we have used get_dummies).\n",
    "data_frame = pd.read_csv(\"insurance.csv\")\n",
    "data_frame = pd.get_dummies(data_frame, columns = [\"gender\", \"region\"])\n",
    "\n",
    "# Let's look for unique values in the smoker attribute\n",
    "print(\"Unique values for smoker \", data_frame[\"smoker\"].unique())\n",
    "# Let's apply remapper on the smoker attribute\n",
    "smoker_mapper = {\"no\" : 0 , \"yes\" : 1}\n",
    "data_frame[\"smoker\"] = data_frame[\"smoker\"].replace(smoker_mapper)\n",
    "\n",
    "data_frame.head()"
   ]
  },
  {
   "cell_type": "markdown",
   "id": "3de67ba3",
   "metadata": {},
   "source": [
    "Let's look for outliers in the dataset. "
   ]
  },
  {
   "cell_type": "code",
   "execution_count": 156,
   "id": "43f9a97c",
   "metadata": {},
   "outputs": [
    {
     "data": {
      "text/plain": [
       "<AxesSubplot:>"
      ]
     },
     "execution_count": 156,
     "metadata": {},
     "output_type": "execute_result"
    },
    {
     "data": {
      "image/png": "[encoded data removed]",
      "text/plain": [
       "<Figure size 1200x400 with 2 Axes>"
      ]
     },
     "metadata": {},
     "output_type": "display_data"
    }
   ],
   "source": [
    "# The relevant fields to look for outliers in our data set is \"bmi\" and \"children\".\n",
    "fig = plt.figure(figsize=(12,4))\n",
    "ax1 = fig.add_subplot(1,2,1)\n",
    "data_frame.boxplot(column=[\"bmi\"])\n",
    "\n",
    "ax2 = fig.add_subplot(1,2,2)\n",
    "data_frame.boxplot(column=[\"children\"])"
   ]
  },
  {
   "cell_type": "markdown",
   "id": "af9c7f51",
   "metadata": {},
   "source": [
    "BMI has outliers, and the outliers are too big values for BMI. Hence, we need to provide special treatment to this attribute. The transformation of BMI will include application of RubustScalar followed by log transformation.\n",
    "Let's also visualize the distibution of both attributes. "
   ]
  },
  {
   "cell_type": "code",
   "execution_count": 157,
   "id": "63911233",
   "metadata": {},
   "outputs": [
    {
     "data": {
      "text/plain": [
       "<AxesSubplot:>"
      ]
     },
     "execution_count": 157,
     "metadata": {},
     "output_type": "execute_result"
    },
    {
     "data": {
      "image/png": "[encoded data removed]",
      "text/plain": [
       "<Figure size 1200x400 with 2 Axes>"
      ]
     },
     "metadata": {},
     "output_type": "display_data"
    }
   ],
   "source": [
    "fig = plt.figure(figsize=(12,4))\n",
    "ax1 = fig.add_subplot(1,2,1)\n",
    "data_frame[\"bmi\"].hist(bins=10)\n",
    "\n",
    "ax2 = fig.add_subplot(1,2,2)\n",
    "data_frame[\"children\"].hist(bins=6)"
   ]
  },
  {
   "cell_type": "markdown",
   "id": "6e71ec30",
   "metadata": {},
   "source": [
    "### EDA Conclusions\n",
    "- The preprocessing pipleline needs to apply the following on the BMI attribute: RobustScalar and log transformation.\n",
    "- The preprocessing pipeline needs to apply MinMaxScaler on children attribute (the reason for selecting MinMaxScalar is that children attribute doesn't follow normal distribution). \n",
    "- As we have different transformations for different colums, therefore our preprocessing pipeline will be part of column transformer."
   ]
  },
  {
   "cell_type": "markdown",
   "id": "28d50900",
   "metadata": {},
   "source": [
    "### Partition Data in Train and Test Sets"
   ]
  },
  {
   "cell_type": "code",
   "execution_count": 158,
   "id": "abf73c71",
   "metadata": {},
   "outputs": [],
   "source": [
    "y = data_frame[\"insurance_cost\"]\n",
    "X = data_frame.drop(\"insurance_cost\", axis=1).values\n",
    "\n",
    "X_train, X_test, y_train, y_test = train_test_split(X, y, test_size=0.2, shuffle=True)\n",
    "X_train = pd.DataFrame(X_train, columns = [\"age\", \"bmi\", \"children\", \"smoker\", \"gender_female\", \"gender_male\", \"region_northeast\", \"region_northwest\", \"region_southeast\", \"region_southwest\"])\n",
    "X_test = pd.DataFrame(X_test, columns = [\"age\", \"bmi\", \"children\", \"smoker\" , \"gender_female\", \"gender_male\", \"region_northeast\", \"region_northwest\", \"region_southeast\", \"region_southwest\"])\n",
    "y_train = pd.DataFrame(y_train, columns = [\"insurance_cost\"])\n",
    "y_test = pd.DataFrame(y_test, columns = [\"insurance_cost\"])\n",
    "#print(X_train.head(5))\n",
    "#print(X_test.head(5)) \n",
    "#print(y_train.head(5)) \n",
    "#print(y_test.head(5)) "
   ]
  },
  {
   "cell_type": "code",
   "execution_count": 159,
   "id": "23cac38c",
   "metadata": {},
   "outputs": [],
   "source": [
    "def apply_log_transform(input_data):\n",
    "    min_value = input_data.min()\n",
    "    if min_value < 0:\n",
    "        min_value = (-2)*min_value \n",
    "    return np.log(input_data + min_value)"
   ]
  },
  {
   "cell_type": "markdown",
   "id": "c1616792",
   "metadata": {},
   "source": [
    "### Create Pipelines and Using Random Forest Regression for Model Training"
   ]
  },
  {
   "cell_type": "code",
   "execution_count": 160,
   "id": "037020e4",
   "metadata": {},
   "outputs": [
    {
     "name": "stdout",
     "output_type": "stream",
     "text": [
      "Best CV score = 0.801:\n",
      "Best parameters:  {'reduce_dim': RFE(estimator=LinearRegression(), n_features_to_select=6), 'reduce_dim__n_features_to_select': 6, 'regression__max_depth': 4}\n"
     ]
    }
   ],
   "source": [
    "outlier_feature = [\"bmi\"]\n",
    "non_outlier_features = [\"age\", \"children\", \"smoker\", \"gender_female\", \"gender_male\", \"region_northeast\", \"region_northwest\", \"region_southeast\", \"region_southwest\"]\n",
    "# Create a pipeline for preprocessing outlier feature\n",
    "outlier_transformer = Pipeline(steps = [(\"scaler\", RobustScaler()), (\"log\", FunctionTransformer(apply_log_transform))])\n",
    "# Create a pipeline for preprocessing non-outlier features\n",
    "non_outlier_transformer = Pipeline(steps = [(\"scaler\", MinMaxScaler())])\n",
    "\n",
    "# Create a column transformer\n",
    "preprocessor = ColumnTransformer(transformers = [(\"outlier\" , outlier_transformer, outlier_feature), (\"non_outlier\", non_outlier_transformer, non_outlier_features)])\n",
    "\n",
    "# The final high-level pipeline\n",
    "pipeline = Pipeline(steps = [(\"preprocess-pipeline\", preprocessor), \n",
    "                         (\"reduce_dim\", \"passthrough\"), \n",
    "                         ('regression', RandomForestRegressor(n_estimators=10))])\n",
    "\n",
    "\n",
    "MAX_FEATURES_OPTIONS = [2, 6, 11]\n",
    "MAX_DEPTH_OPTIONS = [2, 6, 4, 8]\n",
    "\n",
    "param_grid = [{\"reduce_dim\" : [PCA()], \n",
    "               \"reduce_dim__n_components\" : MAX_FEATURES_OPTIONS, \n",
    "               \"regression__max_depth\" : MAX_DEPTH_OPTIONS\n",
    "              }, \n",
    "              {\n",
    "                  'reduce_dim': [RFE(svm.SVR(kernel='linear', gamma='auto')),RFE(LinearRegression())],\n",
    "                  'reduce_dim__n_features_to_select': MAX_FEATURES_OPTIONS,\n",
    "                  'regression__max_depth': MAX_DEPTH_OPTIONS\n",
    "              }\n",
    "            ]\n",
    "\n",
    "search = GridSearchCV(pipeline, param_grid, n_jobs=-1, cv=5, refit=True)\n",
    "search.fit(X_train, y_train)\n",
    "\n",
    "print(\"Best CV score = %0.3f:\" % search.best_score_)\n",
    "print(\"Best parameters: \", search.best_params_)\n",
    "\n",
    "# store the best params and best model for later use\n",
    "RF_best_params = search.best_params_\n",
    "RF_best_model = search.best_estimator_"
   ]
  },
  {
   "cell_type": "markdown",
   "id": "dce4d0dc",
   "metadata": {},
   "source": [
    "### Linear Regression Pipeline"
   ]
  },
  {
   "cell_type": "code",
   "execution_count": 161,
   "id": "64c34c2a",
   "metadata": {},
   "outputs": [],
   "source": [
    "pipe = Pipeline(steps=[('preprocess', preprocessor), \n",
    "                       ('reduce_dim', 'passthrough'),\n",
    "                       ('regresson', LinearRegression())])"
   ]
  },
  {
   "cell_type": "code",
   "execution_count": 162,
   "id": "c282f2cc",
   "metadata": {},
   "outputs": [
    {
     "name": "stdout",
     "output_type": "stream",
     "text": [
      "Best CV score = 0.741:\n",
      "Best parameters:  {'reduce_dim': RFE(estimator=SVR(gamma='auto', kernel='linear'), n_features_to_select=11), 'reduce_dim__n_features_to_select': 11, 'regresson__normalize': True}\n"
     ]
    }
   ],
   "source": [
    "N_FEATURES_OPTIONS = [2, 6, 11]\n",
    "NORMALIZE_OPTIONS = [False, True]\n",
    "\n",
    "param_grid = [\n",
    "    {\n",
    "        'reduce_dim': [PCA(iterated_power=7)],\n",
    "        'reduce_dim__n_components': N_FEATURES_OPTIONS,\n",
    "        'regresson__normalize': NORMALIZE_OPTIONS\n",
    "    },\n",
    "    {\n",
    "        'reduce_dim': [RFE(svm.SVR(kernel='linear', gamma='auto')),RFE(LinearRegression())],\n",
    "        'reduce_dim__n_features_to_select': N_FEATURES_OPTIONS,\n",
    "        'regresson__normalize': NORMALIZE_OPTIONS\n",
    "    }  \n",
    "]\n",
    "\n",
    "search = GridSearchCV(pipe, param_grid, n_jobs=-1, cv=5, refit=True)\n",
    "search.fit(X_train, y_train)\n",
    "print(\"Best CV score = %0.3f:\" % search.best_score_)\n",
    "print(\"Best parameters: \", search.best_params_)\n",
    "\n",
    "# store the best params and best model for later use\n",
    "LR_best_params = search.best_params_\n",
    "LR_best_model = search.best_estimator_"
   ]
  },
  {
   "cell_type": "markdown",
   "id": "09916c9b",
   "metadata": {},
   "source": [
    "### MLP Regression Pipeline"
   ]
  },
  {
   "cell_type": "code",
   "execution_count": 163,
   "id": "8a17752f",
   "metadata": {},
   "outputs": [],
   "source": [
    "pipe = Pipeline(steps=[('preprocess', preprocessor), \n",
    "                       ('reduce_dim', 'passthrough'),\n",
    "                       ('regresson', MLPRegressor())])"
   ]
  },
  {
   "cell_type": "code",
   "execution_count": 164,
   "id": "48a343b3",
   "metadata": {},
   "outputs": [
    {
     "name": "stdout",
     "output_type": "stream",
     "text": [
      "Best CV score = 0.827:\n",
      "Best parameters:  {'reduce_dim': RFE(estimator=LinearRegression(), n_features_to_select=11), 'reduce_dim__n_features_to_select': 11, 'regresson__activation': 'relu', 'regresson__hidden_layer_sizes': 7, 'regresson__learning_rate': 'adaptive', 'regresson__solver': 'lbfgs'}\n"
     ]
    }
   ],
   "source": [
    "N_FEATURES_OPTIONS = [2, 6, 11]\n",
    "\n",
    "param_grid = [\n",
    "    {\n",
    "    'reduce_dim' : [PCA(iterated_power=7)],\n",
    "    'reduce_dim__n_components' : N_FEATURES_OPTIONS,\n",
    "    'regresson__hidden_layer_sizes': [2,3,4,6,7],\n",
    "    'regresson__activation': ['identity','logistic','tanh','relu'],\n",
    "    'regresson__solver': ['lbfgs','sgd','adam'],\n",
    "    'regresson__learning_rate':['constant','invscaling','adaptive'],\n",
    "    },\n",
    "    {\n",
    "        'reduce_dim': [RFE(svm.SVR(kernel='linear', gamma='auto')),RFE(LinearRegression())],\n",
    "        'reduce_dim__n_features_to_select': N_FEATURES_OPTIONS,\n",
    "        'regresson__hidden_layer_sizes': [2,3,4,6,7],\n",
    "        'regresson__activation': ['identity','logistic','tanh','relu'],\n",
    "        'regresson__solver': ['lbfgs','sgd','adam'],\n",
    "        'regresson__learning_rate':['constant','invscaling','adaptive'],\n",
    "    }\n",
    "]\n",
    "\n",
    "search = GridSearchCV(pipe, param_grid, n_jobs=-1, cv=5, refit=True)\n",
    "search.fit(X_train, y_train)\n",
    "print(\"Best CV score = %0.3f:\" % search.best_score_)\n",
    "print(\"Best parameters: \", search.best_params_)\n",
    "\n",
    "# store the best params and best model for later use\n",
    "MLP_best_params = search.best_params_\n",
    "MLP_best_model = search.best_estimator_"
   ]
  },
  {
   "cell_type": "markdown",
   "id": "7c15238c",
   "metadata": {},
   "source": [
    "### Discussion on Model Training Results\n",
    "Model training has been done using the following methods:\n",
    "- Random Forest Regressor\n",
    "- Linear Regression \n",
    "- MLP Regressor \n",
    "\n",
    "For dimension reduction, the following methods were used:\n",
    "- Principle Component Analysis (PCA)\n",
    "- Recursive Feature Elimination (RFE)\n",
    "\n",
    "Single run of the model training has demonstarted that MLP regressor has the best model training result, followed by Random Forest Regressor, and Linear Regression. MLP Regressor, Random Forest Regressor, and Linear Regression have demonstarted CV score of 82.8%, 80.7%, and 74.9% respectively. Interestingly, RFE with SVM estimator comes out to be the best method for dimensionality reduction for all the trained methods. However, in case of the Random Forest Regressor method the features were reduced to 6, and both other methods demonstarte best performace when all the features in the data set are selected. Furthermore, the training time for MLP Regressor is significantly high compared to the Random Forest Regressor tarining time. Random Forest Regressor demonstartes the two advantages over MLP Regressor:\n",
    "- Lower feature - reduced memory requirement \n",
    "- Lower training time - lower CPU resource\n",
    "\n",
    "The benefit demonstarted by MLP Regressor over Random Forest Regressor in terms of CV score is small, hence if resource requirement is an issue, Random Forest Regressor is better else MLP regressor is the best option."
   ]
  },
  {
   "cell_type": "markdown",
   "id": "b2cde805",
   "metadata": {},
   "source": [
    "### Evaluating Models on Test Data\n",
    "Now we can evaluate the best models found by the grid search on the test dataset and compare their metrics:\n",
    "\n",
    "- Mean squared error (MSE)\n",
    "- Mean absolute error (MAE)\n",
    "- 1-relative squared error (R2)\n",
    "\n",
    "This will help us to choose the better regressor for our problem."
   ]
  },
  {
   "cell_type": "code",
   "execution_count": 111,
   "id": "ac9dcbd5",
   "metadata": {},
   "outputs": [],
   "source": [
    "# model - a trained regression model\n",
    "\n",
    "def evaluate_model(X_test, y_test, model):\n",
    "    \n",
    "    # compute predictiond for the test set\n",
    "    _predicted_values = model.predict(X_test)\n",
    "        \n",
    "    # compute metrics\n",
    "    _mse = mean_squared_error(y_test, _predicted_values)\n",
    "    _mae = mean_absolute_error(y_test, _predicted_values)\n",
    "    _r2 = r2_score(y_test, _predicted_values)\n",
    "            \n",
    "    return _mse, _mae, _r2"
   ]
  },
  {
   "cell_type": "markdown",
   "id": "b2421205",
   "metadata": {},
   "source": [
    "The following piece of code will collect the metrices corresponding to model performace on test data."
   ]
  },
  {
   "cell_type": "code",
   "execution_count": 114,
   "id": "12c6c1b4",
   "metadata": {},
   "outputs": [],
   "source": [
    "RF_mse, RF_mae, RF_r2 = evaluate_model(X_test, y_test, RF_best_model)\n",
    "LR_mse, LR_mae, LR_r2 = evaluate_model(X_test, y_test, LR_best_model)\n",
    "MLP_mse, MLP_mae, MLP_r2 = evaluate_model(X_test, y_test, MLP_best_model)"
   ]
  },
  {
   "cell_type": "code",
   "execution_count": 119,
   "id": "aa84b123",
   "metadata": {},
   "outputs": [
    {
     "data": {
      "image/png": "[encoded data removed]",
      "text/plain": [
       "<Figure size 2000x500 with 3 Axes>"
      ]
     },
     "metadata": {},
     "output_type": "display_data"
    }
   ],
   "source": [
    "df_mse = pd.DataFrame({'Random Forest': RF_mse, 'Linear Regression': LR_mse, 'MLP Regressor' : MLP_mse}, index=['MSE'])\n",
    "df_mae = pd.DataFrame({'Random Forest': RF_mae, 'Linear Regression': LR_mae, 'MLP Regressor' : MLP_mae}, index=['MAE'])\n",
    "df_r2 = pd.DataFrame({'Random Forest': RF_r2, 'Linear Regression': LR_r2, 'MLP Regressor' : MLP_r2}, index=['R2'])\n",
    "\n",
    "fig, axes = plt.subplots(nrows=1, ncols=3, figsize=(20, 5))\n",
    "\n",
    "df_mse.plot.bar(rot=60, ax=axes[0])\n",
    "df_mae.plot.bar(rot=60, ax=axes[1])\n",
    "df_r2.plot.bar(rot=60, ax=axes[2])\n",
    "\n",
    "plt.show()"
   ]
  },
  {
   "cell_type": "markdown",
   "id": "47d1cf55",
   "metadata": {},
   "source": [
    "### Discussion\n",
    "The above plots demonstrate that for \"MSE\" and \"MAE\" metrics MLP Regressor demonstrates better performance, however the difefrence is not significant compared to Random Forest Regressor. This result is consistent with the training data set result. However, on the test data set, Linear Regression has demonstarted better performance related to R2 metric. \n",
    "\n",
    "Overall, the results are consistent with the training data set results, and mostly the conclusions drawn on the training data set results generally hold on the test data set results. "
   ]
  },
  {
   "cell_type": "markdown",
   "id": "d982909a",
   "metadata": {},
   "source": [
    "### Storing the Best Model\n",
    "As in the task 3, I need to experiment with couple of other dimensionality reduction techniques, hence at this point we are not sure whether we have the best model available to us or not. After task 3, the best model will be saved. "
   ]
  },
  {
   "cell_type": "markdown",
   "id": "cce5f8c4",
   "metadata": {},
   "source": [
    "### Task 3\n",
    "In task 3, I will use the following dimensionality reduction techniques:\n",
    "- Select K Best\n",
    "- Non-Negative Matrix Factorization (NMF)"
   ]
  },
  {
   "cell_type": "code",
   "execution_count": 165,
   "id": "4144f574",
   "metadata": {},
   "outputs": [],
   "source": [
    "pipeline = Pipeline(steps = [(\"preprocess-pipeline\", preprocessor), \n",
    "                         (\"reduce_dim\", \"passthrough\"), \n",
    "                         ('regression', RandomForestRegressor(n_estimators=10))])"
   ]
  },
  {
   "cell_type": "code",
   "execution_count": 166,
   "id": "a03e3e5b",
   "metadata": {},
   "outputs": [
    {
     "name": "stdout",
     "output_type": "stream",
     "text": [
      "Best CV score = 0.799:\n",
      "Best parameters:  {'reduce_dim': SelectKBest(k=6,\n",
      "            score_func=<function mutual_info_regression at 0x000001C3C3E514C0>), 'reduce_dim__k': 6, 'regression__max_depth': 4}\n"
     ]
    }
   ],
   "source": [
    "MAX_FEATURES_OPTIONS = [2, 6, 11]\n",
    "MAX_DEPTH_OPTIONS = [2, 6, 4, 8]\n",
    "\n",
    "param_grid = [{\"reduce_dim\" : [NMF(max_iter=1_000)], \n",
    "               \"reduce_dim__n_components\" : MAX_FEATURES_OPTIONS, \n",
    "               \"regression__max_depth\" : MAX_DEPTH_OPTIONS\n",
    "              }, \n",
    "              {\n",
    "                  'reduce_dim': [SelectKBest(mutual_info_regression)], # mutual_info_regression is used for regression\n",
    "                  'reduce_dim__k': MAX_FEATURES_OPTIONS,\n",
    "                  'regression__max_depth': MAX_DEPTH_OPTIONS\n",
    "              }\n",
    "            ]\n",
    "\n",
    "search = GridSearchCV(pipeline, param_grid, n_jobs=-1, cv=5, refit=True)\n",
    "search.fit(X_train, y_train)\n",
    "\n",
    "print(\"Best CV score = %0.3f:\" % search.best_score_)\n",
    "print(\"Best parameters: \", search.best_params_)\n",
    "\n",
    "# store the best params and best model for later use\n",
    "RF_best_params = search.best_params_\n",
    "RF_best_model = search.best_estimator_"
   ]
  },
  {
   "cell_type": "markdown",
   "id": "3de239ed",
   "metadata": {},
   "source": [
    "### Linear Regression Pipeline"
   ]
  },
  {
   "cell_type": "code",
   "execution_count": 167,
   "id": "1a97c3de",
   "metadata": {},
   "outputs": [],
   "source": [
    "pipe = Pipeline(steps=[('preprocess', preprocessor), \n",
    "                       ('reduce_dim', 'passthrough'),\n",
    "                       ('regresson', LinearRegression())])"
   ]
  },
  {
   "cell_type": "code",
   "execution_count": 168,
   "id": "c796d5d4",
   "metadata": {},
   "outputs": [
    {
     "name": "stdout",
     "output_type": "stream",
     "text": [
      "Best CV score = 0.741:\n",
      "Best parameters:  {'reduce_dim': SelectKBest(k=6,\n",
      "            score_func=<function mutual_info_regression at 0x000001C3C3E514C0>), 'reduce_dim__k': 6, 'regresson__normalize': False}\n"
     ]
    }
   ],
   "source": [
    "N_FEATURES_OPTIONS = [2, 6, 11]\n",
    "NORMALIZE_OPTIONS = [False, True]\n",
    "\n",
    "param_grid = [\n",
    "    {\n",
    "        'reduce_dim': [NMF(max_iter=1_000)],\n",
    "        'reduce_dim__n_components': N_FEATURES_OPTIONS,\n",
    "        'regresson__normalize': NORMALIZE_OPTIONS\n",
    "    },\n",
    "    {\n",
    "        'reduce_dim': [SelectKBest(mutual_info_regression)], # mutual_info_regression is used for regression,\n",
    "        'reduce_dim__k': N_FEATURES_OPTIONS,\n",
    "        'regresson__normalize': NORMALIZE_OPTIONS\n",
    "    }  \n",
    "]\n",
    "\n",
    "search = GridSearchCV(pipe, param_grid, n_jobs=-1, cv=5, refit=True)\n",
    "search.fit(X_train, y_train)\n",
    "print(\"Best CV score = %0.3f:\" % search.best_score_)\n",
    "print(\"Best parameters: \", search.best_params_)\n",
    "\n",
    "# store the best params and best model for later use\n",
    "LR_best_params = search.best_params_\n",
    "LR_best_model = search.best_estimator_"
   ]
  },
  {
   "cell_type": "markdown",
   "id": "967e6947",
   "metadata": {},
   "source": [
    "### MLP Regression Pipeline"
   ]
  },
  {
   "cell_type": "code",
   "execution_count": 147,
   "id": "1160e92e",
   "metadata": {},
   "outputs": [],
   "source": [
    "pipe = Pipeline(steps=[('preprocess', preprocessor), \n",
    "                       ('reduce_dim', 'passthrough'),\n",
    "                       ('regresson', MLPRegressor())])"
   ]
  },
  {
   "cell_type": "code",
   "execution_count": 148,
   "id": "e2b28843",
   "metadata": {},
   "outputs": [
    {
     "name": "stdout",
     "output_type": "stream",
     "text": [
      "Best CV score = 0.806:\n",
      "Best parameters:  {'reduce_dim': SelectKBest(k=6,\n",
      "            score_func=<function mutual_info_regression at 0x000001C3C3E514C0>), 'reduce_dim__k': 6, 'regresson__activation': 'relu', 'regresson__hidden_layer_sizes': 7, 'regresson__learning_rate': 'adaptive', 'regresson__solver': 'lbfgs'}\n"
     ]
    }
   ],
   "source": [
    "N_FEATURES_OPTIONS = [2, 6, 11]\n",
    "\n",
    "param_grid = [\n",
    "    {\n",
    "    'reduce_dim' : [NMF(max_iter=1_000)],\n",
    "    'reduce_dim__n_components' : N_FEATURES_OPTIONS,\n",
    "    'regresson__hidden_layer_sizes': [2,3,4,6,7],\n",
    "    'regresson__activation': ['identity','logistic','tanh','relu'],\n",
    "    'regresson__solver': ['lbfgs','sgd','adam'],\n",
    "    'regresson__learning_rate':['constant','invscaling','adaptive'],\n",
    "    },\n",
    "    {\n",
    "        'reduce_dim': [SelectKBest(mutual_info_regression)], # mutual_info_regression is used for regression\n",
    "        'reduce_dim__k': N_FEATURES_OPTIONS,\n",
    "        'regresson__hidden_layer_sizes': [2,3,4,6,7],\n",
    "        'regresson__activation': ['identity','logistic','tanh','relu'],\n",
    "        'regresson__solver': ['lbfgs','sgd','adam'],\n",
    "        'regresson__learning_rate':['constant','invscaling','adaptive'],\n",
    "    }\n",
    "]\n",
    "\n",
    "search = GridSearchCV(pipe, param_grid, n_jobs=-1, cv=5, refit=True)\n",
    "search.fit(X_train, y_train)\n",
    "print(\"Best CV score = %0.3f:\" % search.best_score_)\n",
    "print(\"Best parameters: \", search.best_params_)\n",
    "\n",
    "# store the best params and best model for later use\n",
    "MLP_best_params = search.best_params_\n",
    "MLP_best_model = search.best_estimator_"
   ]
  },
  {
   "cell_type": "markdown",
   "id": "df0ab0da",
   "metadata": {},
   "source": [
    "### Discussion\n",
    "The best model obtained using \"Select K Best\" and \"NMF\" dimensionality reduction methods is also MLP regressor, followed by Random forest regressor, and linear regression. This finding is consistent with the finding of task 2. However, the selected MLP regressor model in case of Task 2 used 11 features, but in this case the best MLP regressor model only needs 6 features. At the same time, the best MLP regressor model obtained in task 3 demonstrates slighty lower best CV score comapred to the scored demonstrated by the MLP regressor in task 2. However, the difference in score doesn't seem to be significant. Hence, the conclusion here is that dimensionality reduction method should be carefully selected as it impacts the memory requirement, and a model's performance. In this case, it has been demonstarted that the select K Best dimensionality reduction method can acheive similar performance to the best MLP regressor method selected in task 2, however the current method can acheive the performance with nearly 50% less features.  "
   ]
  },
  {
   "cell_type": "markdown",
   "id": "109c8fc6",
   "metadata": {},
   "source": [
    "The following piece of code will collect the metrices corresponding to model performace on test data."
   ]
  },
  {
   "cell_type": "code",
   "execution_count": 149,
   "id": "7fcf757d",
   "metadata": {},
   "outputs": [
    {
     "data": {
      "image/png": "[encoded data removed]",
      "text/plain": [
       "<Figure size 2000x500 with 3 Axes>"
      ]
     },
     "metadata": {},
     "output_type": "display_data"
    }
   ],
   "source": [
    "RF_mse, RF_mae, RF_r2 = evaluate_model(X_test, y_test, RF_best_model)\n",
    "LR_mse, LR_mae, LR_r2 = evaluate_model(X_test, y_test, LR_best_model)\n",
    "MLP_mse, MLP_mae, MLP_r2 = evaluate_model(X_test, y_test, MLP_best_model)\n",
    "\n",
    "df_mse = pd.DataFrame({'Random Forest': RF_mse, 'Linear Regression': LR_mse, 'MLP Regressor' : MLP_mse}, index=['MSE'])\n",
    "df_mae = pd.DataFrame({'Random Forest': RF_mae, 'Linear Regression': LR_mae, 'MLP Regressor' : MLP_mae}, index=['MAE'])\n",
    "df_r2 = pd.DataFrame({'Random Forest': RF_r2, 'Linear Regression': LR_r2, 'MLP Regressor' : MLP_r2}, index=['R2'])\n",
    "\n",
    "fig, axes = plt.subplots(nrows=1, ncols=3, figsize=(20, 5))\n",
    "\n",
    "df_mse.plot.bar(rot=60, ax=axes[0])\n",
    "df_mae.plot.bar(rot=60, ax=axes[1])\n",
    "df_r2.plot.bar(rot=60, ax=axes[2])\n",
    "\n",
    "plt.show()"
   ]
  },
  {
   "cell_type": "markdown",
   "id": "a7e9bdb0",
   "metadata": {},
   "source": [
    "### Conclusions\n",
    "The above plots demonstrate that on the test data, mostly MLP regressor demonstrates best performace. These results are also consistent with the results shown in Task 2. The conclusion is that: it is important to evaluate different dimensionality reduction methods as it could help to select reduce memory requirement for memory training mostly without negatively impacting the model's performace. "
   ]
  }
 ],
 "metadata": {
  "kernelspec": {
   "display_name": "Python 3 (ipykernel)",
   "language": "python",
   "name": "python3"
  },
  "language_info": {
   "codemirror_mode": {
    "name": "ipython",
    "version": 3
   },
   "file_extension": ".py",
   "mimetype": "text/x-python",
   "name": "python",
   "nbconvert_exporter": "python",
   "pygments_lexer": "ipython3",
   "version": "3.9.13"
  }
 },
 "nbformat": 4,
 "nbformat_minor": 5
}
